{
  "nbformat": 4,
  "nbformat_minor": 0,
  "metadata": {
    "colab": {
      "name": "Searcher.ipynb",
      "provenance": [],
      "authorship_tag": "ABX9TyPql0iqawxcZhVDVWTX+A6V",
      "include_colab_link": true
    },
    "kernelspec": {
      "name": "python3",
      "display_name": "Python 3"
    },
    "language_info": {
      "name": "python"
    }
  },
  "cells": [
    {
      "cell_type": "markdown",
      "metadata": {
        "id": "view-in-github",
        "colab_type": "text"
      },
      "source": [
        "<a href=\"https://colab.research.google.com/github/RiskyHermawan/CBIR_Project/blob/main/Searcher.ipynb\" target=\"_parent\"><img src=\"https://colab.research.google.com/assets/colab-badge.svg\" alt=\"Open In Colab\"/></a>"
      ]
    },
    {
      "cell_type": "markdown",
      "metadata": {
        "id": "jq4Yayo8y8hQ"
      },
      "source": [
        "# **Searcher**"
      ]
    },
    {
      "cell_type": "code",
      "metadata": {
        "id": "-5VXM1E4y6CF"
      },
      "source": [
        "import numpy as np\n",
        "import csv\n",
        "\n",
        "class Searcher:\n",
        "    def __init__(self,indexPath):\n",
        "        #storing the index \n",
        "        self.indexPath = indexPath\n",
        "        \n",
        "    def search(self,queryFeatures):\n",
        "        #make a dictionary for thr results\n",
        "        results = {}\n",
        "        \n",
        "        #open the index file for reading\n",
        "        with open(self.indexPath) as f:\n",
        "            # initializing the csv reader\n",
        "            reader = csv.reader(f)\n",
        "            \n",
        "            #loop over the rows in the index\n",
        "            for row in reader:\n",
        "                # parse out the imageID and features, then calculate the chi-squared distance between the saved features and the features of our image\n",
        "                features = [float(x) for x in row[1:]]\n",
        "                d = self.chi2_distance(features, queryFeatures)\n",
        "                \n",
        "                # now we have the distance between the two feature vectors. we now update the results dictionary\n",
        "                results[row[0]] = d\n",
        "                \n",
        "            # closing the reader\n",
        "            f.close()\n",
        "            \n",
        "        # sort the results such that the dictionary starts with smaller values as they will be closest to the given image\n",
        "        results = sorted([(v,k) for (k,v) in results.items()])\n",
        "        \n",
        "        #return our results\n",
        "        return results[:1]\n",
        "    \n",
        "    def chi2_distance(self, histA, histB, eps = 1e-10):\n",
        "        #calculating the chi squared distance\n",
        "        d = 0.5 * np.sum([((a-b) ** 2) / (a + b + eps) for (a, b) in zip(histA, histB)])\n",
        "        \n",
        "        #return the chi squared distance\n",
        "        return d"
      ],
      "execution_count": 1,
      "outputs": []
    }
  ]
}