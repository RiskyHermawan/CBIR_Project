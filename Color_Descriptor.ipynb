{
  "nbformat": 4,
  "nbformat_minor": 0,
  "metadata": {
    "colab": {
      "name": "Color Descriptor.ipynb",
      "provenance": [],
      "authorship_tag": "ABX9TyOsXiT/lIFdUgdJXSOpN7tk",
      "include_colab_link": true
    },
    "kernelspec": {
      "name": "python3",
      "display_name": "Python 3"
    },
    "language_info": {
      "name": "python"
    }
  },
  "cells": [
    {
      "cell_type": "markdown",
      "metadata": {
        "id": "view-in-github",
        "colab_type": "text"
      },
      "source": [
        "<a href=\"https://colab.research.google.com/github/RiskyHermawan/CBIR_Project/blob/main/Color_Descriptor.ipynb\" target=\"_parent\"><img src=\"https://colab.research.google.com/assets/colab-badge.svg\" alt=\"Open In Colab\"/></a>"
      ]
    },
    {
      "cell_type": "markdown",
      "metadata": {
        "id": "l8-kUuy9xzX7"
      },
      "source": [
        "# **Color Descriptor**"
      ]
    },
    {
      "cell_type": "code",
      "metadata": {
        "id": "GcfQ5rl-xpFn"
      },
      "source": [
        "import numpy as np\n",
        "import cv2\n",
        "import imutils\n",
        "\n",
        "class ColorDescriptor:\n",
        "    def __init__(self, bins):\n",
        "        #Storing number of bins for histogram\n",
        "        self.bins = bins\n",
        "        \n",
        "    def describe(self, image):\n",
        "        #Convert the image into hsv and initialize the features to quantify the image\n",
        "        image = image.astype('uint8')\n",
        "        image = cv2.cvtColor(image, cv2.COLOR_BGR2HSV)\n",
        "        features = []\n",
        "        \n",
        "        #Obtaining the dimensions and center of the image\n",
        "        (h, w) = image.shape[:2]                 \n",
        "        (cX, cY) = (int(w * 0.5), int(h * 0.5))\n",
        "        \n",
        "        #Divide the image into 4 segements(top-left,top-right,bottom-left,bottom-right,center)\n",
        "        segements = [(0,cX,0,cY),(cX,w,0,cY),(cX,w,cY,h),(0,cX,cY,h)]\n",
        "        \n",
        "        #Construct an eliptical mask representing the center of the image which is 75% of height and width of image\n",
        "        (axesX, axesY) = (int(w * 0.75) // 2, int(h * 0.75) // 2)\n",
        "        ellipMask = np.zeros(image.shape[:2], dtype = \"uint8\")\n",
        "        cv2.ellipse(ellipMask, (cX, cY), (axesX, axesY), 0, 0, 360, 255, -1)\n",
        "        \t\n",
        "        #Loop over the segements\n",
        "        for(startX, endX, startY, endY) in segements:\n",
        "            #Construct a mask for each corner of the image subtracting the elliptical center from it\n",
        "            cornerMask = np.zeros(image.shape[:2], dtype=\"uint8\")\n",
        "            cv2.rectangle(cornerMask, (startX, startY), (endX, endY), 255 ,-1)\n",
        "            cornerMask = cv2.subtract(cornerMask, ellipMask)\n",
        "            \n",
        "            #Extract a color histogram from the image and update the feature vector\n",
        "            hist = self.histogram(image, cornerMask)\n",
        "            features.extend(hist)\n",
        "            \n",
        "        #Extract a color histogram from the elliptical region and update the feature vector\n",
        "        hist = self.histogram(image, ellipMask)\n",
        "        features.extend(hist)\n",
        "        \n",
        "        #Return the feature vector\n",
        "        return features\n",
        "    \n",
        "    def histogram(self,image,mask):\n",
        "        \n",
        "        #Extract a 3-D color histogram from the masked region of the image, using the number of bins supplied\n",
        "        #print(image)\n",
        "        hist = cv2.calcHist([image], [0, 1, 2], mask, self.bins, [0, 180, 0, 256, 0, 256])\n",
        "        \n",
        "        #Normalize the histogram\n",
        "        if imutils.is_cv2():\n",
        "            #For openCV version 2.4\n",
        "            hist = cv2.normalize(hist).flatten()\n",
        "        else:\n",
        "            #For openCV version 3+\n",
        "            hist = cv2.normalize(hist, hist).flatten()\n",
        "            \n",
        "        #Returning histogram\n",
        "        return hist"
      ],
      "execution_count": 3,
      "outputs": []
    }
  ]
}