{
  "nbformat": 4,
  "nbformat_minor": 0,
  "metadata": {
    "colab": {
      "name": "index.ipynb",
      "provenance": [],
      "authorship_tag": "ABX9TyPQhl+Jiz1H2IxWOkxNwGMI",
      "include_colab_link": true
    },
    "kernelspec": {
      "name": "python3",
      "display_name": "Python 3"
    },
    "language_info": {
      "name": "python"
    }
  },
  "cells": [
    {
      "cell_type": "markdown",
      "metadata": {
        "id": "view-in-github",
        "colab_type": "text"
      },
      "source": [
        "<a href=\"https://colab.research.google.com/github/RiskyHermawan/CBIR_Project/blob/main/index.ipynb\" target=\"_parent\"><img src=\"https://colab.research.google.com/assets/colab-badge.svg\" alt=\"Open In Colab\"/></a>"
      ]
    },
    {
      "cell_type": "code",
      "metadata": {
        "id": "EUxIrkdi1R2M"
      },
      "source": [
        "import ColorDescriptor\n",
        "\n",
        "#Used for parsing command line arguments\n",
        "import argparse\n",
        "#Used for getting paths of our images\n",
        "import glob\n",
        "import cv2\n",
        "\n",
        "#Create the argument parser to parse the arguments\n",
        "ap = argparse.ArgumentParser()\n",
        "\n",
        "#Switch for the path to our photos directory\n",
        "ap.add_argument(\"-d\",\"--dataset\", required = True , help = \"Path to directory that contains images\")\n",
        "ap.add_argument(\"-i\",\"--index\", required = True , help = \"Path to where the index will be stored\")\n",
        "args = vars(ap.parse_args())\n",
        "\n",
        "\n",
        "#Initializing our color descriptor\n",
        "cd = ColorDescriptor.ColorDescriptor((8,12,13))\n",
        "\n",
        "#open the output index file for writing\n",
        "output = open(args[\"index\"],\"w\")\n",
        "\n",
        "#Using glob to get path of images and go through all of them\n",
        "for imagePath in glob.glob(args[\"dataset\"]+\"/*.jpg\"):\n",
        "    #Get the UID of the image path and load the image\n",
        "    imageUID =  imagePath[imagePath.rfind(\"/\")+1:]\n",
        "    image = cv2.imread(imagePath)\n",
        "    #Using the describe function \n",
        "    features = cd.describe(image)\n",
        "    \n",
        "    #write the features to a csv file\n",
        "    features = [str(f) for f in features]\n",
        "    output.write(\"%s,%s\\n\" % (imageUID, \",\".join(features)))\n",
        "    \n",
        "# closing the index file\n",
        "output.close()"
      ],
      "execution_count": null,
      "outputs": []
    }
  ]
}