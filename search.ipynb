{
  "nbformat": 4,
  "nbformat_minor": 0,
  "metadata": {
    "colab": {
      "name": "search.ipynb",
      "provenance": [],
      "authorship_tag": "ABX9TyPBdDDv8GQR/7AYupbY+D5I",
      "include_colab_link": true
    },
    "kernelspec": {
      "name": "python3",
      "display_name": "Python 3"
    },
    "language_info": {
      "name": "python"
    }
  },
  "cells": [
    {
      "cell_type": "markdown",
      "metadata": {
        "id": "view-in-github",
        "colab_type": "text"
      },
      "source": [
        "<a href=\"https://colab.research.google.com/github/RiskyHermawan/CBIR_Project/blob/main/search.ipynb\" target=\"_parent\"><img src=\"https://colab.research.google.com/assets/colab-badge.svg\" alt=\"Open In Colab\"/></a>"
      ]
    },
    {
      "cell_type": "code",
      "metadata": {
        "id": "9SZTEKQ59VqF"
      },
      "source": [
        "import ColorDescriptor\n",
        "import Searcher\n",
        "import argparse\n",
        "import cv2\n",
        "\n",
        "# creating the argument parser and parsing the arguments\n",
        "ap = argparse.ArgumentParser()\n",
        "ap.add_argument(\"-i\", \"--index\", required = True, help = \"Path to where the computed index will be stored\")\n",
        "ap.add_argument(\"-q\", \"--query\", required = True, help = \"Path to the query image\")\n",
        "ap.add_argument(\"-r\", \"--result-path\", required = True, help = \"Path to the result path\")\n",
        "args = vars(ap.parse_args())\n",
        "\n",
        "#intializing the color descriptor\n",
        "cd = ColorDescriptor.ColorDescriptor((8,12,3))\n",
        "\n",
        "#loading the query image and describe it\n",
        "query = cv2.imread(args[\"query\"])\n",
        "\n",
        "queryFeatures = cd.describe(query)\n",
        "\n",
        "#performing the search\n",
        "s1 = Searcher.Searcher(args[\"index\"])\n",
        "\n",
        "results = s1.search(queryFeatures)\n",
        "\n",
        "\n",
        "#displaying the query\n",
        "cv2.imshow(\"Query\",query)\n",
        "\n",
        "#loop over the results\n",
        "\n",
        "for (score, resultID) in results:\n",
        "    #load the result image and display it\n",
        "    result1 = cv2.imread(args[\"result_path\"] + \"/\" + resultID)\n",
        "    result = cv2.resize(result1,(300,300))\n",
        "    cv2.imshow(\"Result\",result)\n",
        "    cv2.waitKey(0)"
      ],
      "execution_count": null,
      "outputs": []
    }
  ]
}